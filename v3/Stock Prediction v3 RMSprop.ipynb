{
 "cells": [
  {
   "cell_type": "code",
   "execution_count": null,
   "metadata": {
    "executionInfo": {
     "elapsed": 9390,
     "status": "ok",
     "timestamp": 1683129527822,
     "user": {
      "displayName": "Der Fuchs",
      "userId": "11474674245867075881"
     },
     "user_tz": -120
    },
    "id": "qCYx7648YcGo"
   },
   "outputs": [],
   "source": [
    "# Load the required libraries\n",
    "import yfinance as yf\n",
    "import pandas as pd\n",
    "import numpy as np\n",
    "import matplotlib.pyplot as plt\n",
    "from sklearn.preprocessing import MinMaxScaler\n",
    "from tensorflow.keras.models import Sequential\n",
    "from tensorflow.keras.layers import Dense, LSTM\n",
    "from tensorflow.keras.optimizers import RMSprop"
   ]
  },
  {
   "cell_type": "code",
   "execution_count": null,
   "metadata": {
    "colab": {
     "base_uri": "https://localhost:8080/"
    },
    "executionInfo": {
     "elapsed": 731,
     "status": "ok",
     "timestamp": 1683129530930,
     "user": {
      "displayName": "Der Fuchs",
      "userId": "11474674245867075881"
     },
     "user_tz": -120
    },
    "id": "CwG9Rx4BYevX",
    "outputId": "265ce427-4cd3-4f10-e45a-0b281a4e40c1"
   },
   "outputs": [],
   "source": [
    "# Define the stock symbol and timeframe for the data\n",
    "symbol = 'BTC-EUR'\n",
    "start_date = '2014-09-17'\n",
    "end_date = '2023-05-01'\n",
    "\n",
    "# Retrieve the stock data from Yahoo Finance\n",
    "stock_data = yf.download(symbol, start=start_date, end=end_date)\n",
    "\n",
    "# Create a new dataframe with only the 'Close' column\n",
    "data = stock_data.filter(['Close'])"
   ]
  },
  {
   "cell_type": "code",
   "execution_count": null,
   "metadata": {
    "colab": {
     "base_uri": "https://localhost:8080/",
     "height": 1000
    },
    "executionInfo": {
     "elapsed": 269423,
     "status": "ok",
     "timestamp": 1683130149986,
     "user": {
      "displayName": "Der Fuchs",
      "userId": "11474674245867075881"
     },
     "user_tz": -120
    },
    "id": "-CvRF0Pspd2c",
    "outputId": "c5b6a26b-d77e-49b4-f61d-46fd24a29f62"
   },
   "outputs": [],
   "source": [
    "# Convert the dataframe to a numpy array\n",
    "dataset = data.values\n",
    "\n",
    "# Get the number of rows to train the model on\n",
    "training_data_len = int(np.ceil(len(dataset) * .8))\n",
    "\n",
    "# Scale the data\n",
    "scaler = MinMaxScaler(feature_range=(0, 1))\n",
    "scaled_data = scaler.fit_transform(dataset)\n",
    "\n",
    "# Create the training dataset\n",
    "train_data = scaled_data[0:training_data_len, :]\n",
    "\n",
    "# Split the data into x_train and y_train datasets\n",
    "x_train = []\n",
    "y_train = []\n",
    "\n",
    "lookback = 60\n",
    "for i in range(lookback, len(train_data)):\n",
    "    x_train.append(train_data[i-lookback:i, 0])\n",
    "    y_train.append(train_data[i, 0])\n",
    "\n",
    "# Convert the x_train and y_train to numpy arrays\n",
    "x_train, y_train = np.array(x_train), np.array(y_train)\n",
    "\n",
    "# Reshape the data\n",
    "x_train = np.reshape(x_train, (x_train.shape[0], x_train.shape[1], 1))\n",
    "\n",
    "# Build the LSTM model\n",
    "model = Sequential()\n",
    "model.add(LSTM(50, return_sequences=True, input_shape=(x_train.shape[1], 1)))\n",
    "model.add(LSTM(50, return_sequences=False))\n",
    "model.add(Dense(25))\n",
    "model.add(Dense(1))\n",
    "\n",
    "# Compile the model\n",
    "optimizer = RMSprop(learning_rate=0.001)\n",
    "model.compile(optimizer=optimizer, loss='mean_squared_error')\n",
    "\n",
    "# Train the model\n",
    "model.fit(x_train, y_train, batch_size=1, epochs=3)\n",
    "\n",
    "# Create the testing dataset\n",
    "test_data = scaled_data[training_data_len - lookback:, :]\n",
    "\n",
    "# Split the data into x_test and y_test datasets\n",
    "x_test = []\n",
    "y_test = dataset[training_data_len:, :]\n",
    "\n",
    "for i in range(lookback, len(test_data)):\n",
    "    x_test.append(test_data[i-lookback:i, 0])\n",
    "\n",
    "# Convert the data to a numpy array\n",
    "x_test = np.array(x_test)\n",
    "\n",
    "# Reshape the data\n",
    "x_test = np.reshape(x_test, (x_test.shape[0], x_test.shape[1], 1))\n",
    "\n",
    "# Get the model's predicted price values\n",
    "predictions = model.predict(x_test)\n",
    "predictions = scaler.inverse_transform(predictions)\n",
    "\n",
    "# Evaluate the model's performance\n",
    "rmse = np.sqrt(np.mean(predictions - y_test) ** 2)\n",
    "print(f'RMSE: {rmse}')"
   ]
  },
  {
   "cell_type": "code",
   "execution_count": null,
   "metadata": {},
   "outputs": [],
   "source": [
    "# Plot the data\n",
    "train = data[:training_data_len]\n",
    "valid = data[training_data_len:]\n",
    "valid['Predictions'] = predictions\n",
    "plt.figure(figsize=(16, 8))\n",
    "plt.title('Model')\n",
    "plt.xlabel('Date', fontsize=18)\n",
    "plt.ylabel('Close Price USD ($)', fontsize=18)\n",
    "plt.plot(train['Close'])\n",
    "plt.plot(valid[['Close', 'Predictions']])\n",
    "plt.legend(['Train', 'Validation', 'Predictions'], loc='lower right')\n",
    "plt.show()\n",
    "\n",
    "# Make a prediction for the next day's closing price\n",
    "last_date = stock_data.index[-1]\n",
    "next_date = last_date + pd.DateOffset(days=90)\n",
    "last_price = data['Close'].iloc[-lookback:].values.reshape(-1, 1)\n",
    "last_price_scaled = scaler.transform(last_price)\n",
    "next_day_prediction_scaled = model.predict(last_price_scaled.reshape(1, lookback, 1))[0][0]\n",
    "next_day_prediction = scaler.inverse_transform([[next_day_prediction_scaled]])[0][0]\n",
    "print(f'Predicted Close Price for {next_date.date()}: {next_day_prediction:.2f}')\n",
    "\n",
    "# Plot the predicted and actual closing prices\n",
    "plt.figure(figsize=(16, 8))\n",
    "plt.plot(stock_data.index, stock_data['Close'], label='Actual Closing Prices')\n",
    "plt.plot(next_date, next_day_prediction, marker='o', markersize=10, label='Predicted Closing Price')\n",
    "plt.xlabel('Date')\n",
    "plt.ylabel('Closing Price')\n",
    "plt.title(f'Predicted Closing Price for {next_date.date()}: {next_day_prediction:.2f}')\n",
    "plt.legend()\n",
    "plt.show()\n",
    "\n",
    "# Scale the actual and predicted prices back to their original values\n",
    "actual_prices = scaler.inverse_transform(valid['Close'].values.reshape(-1, 1))\n",
    "predicted_prices = scaler.inverse_transform(predictions.reshape(-1, 1))\n",
    "\n",
    "# Create a dataframe of the actual and predicted prices\n",
    "price_df = pd.DataFrame({'Actual': actual_prices.flatten(), 'Predicted': predicted_prices.flatten()}, index=valid.index)\n",
    "\n",
    "# Plot the actual and predicted prices\n",
    "plt.figure(figsize=(16, 8))\n",
    "plt.plot(price_df.index, price_df['Actual'], label='Actual')\n",
    "plt.plot(price_df.index, price_df['Predicted'], label='Predicted')\n",
    "plt.xlabel('Date')\n",
    "plt.ylabel('Price')\n",
    "plt.title('Actual vs. Predicted Stock Prices')\n",
    "plt.legend()\n",
    "plt.show()"
   ]
  }
 ],
 "metadata": {
  "colab": {
   "authorship_tag": "ABX9TyPYXcYrW1fbLplmC7knYz3F",
   "provenance": []
  },
  "kernelspec": {
   "display_name": "Python 3 (ipykernel)",
   "language": "python",
   "name": "python3"
  },
  "language_info": {
   "codemirror_mode": {
    "name": "ipython",
    "version": 3
   },
   "file_extension": ".py",
   "mimetype": "text/x-python",
   "name": "python",
   "nbconvert_exporter": "python",
   "pygments_lexer": "ipython3",
   "version": "3.11.3"
  }
 },
 "nbformat": 4,
 "nbformat_minor": 1
}
